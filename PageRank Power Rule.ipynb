{
 "cells": [
  {
   "cell_type": "markdown",
   "metadata": {},
   "source": [
    "## Power Rule PageRank\n",
    "* Below is the function for implementing the PageRank.\n",
    "* We will use G, s and maxerr as the arguments for the function."
   ]
  },
  {
   "cell_type": "code",
   "execution_count": 55,
   "metadata": {
    "collapsed": false
   },
   "outputs": [],
   "source": [
    "import numpy as np\n",
    "from scipy.sparse import csc_matrix\n",
    "\n",
    "def pageRank(G, s = .85, maxerr = .0001):\n",
    "    \"\"\"\n",
    "    Computes the pagerank for each of the n states\n",
    "    Parameters\n",
    "    ----------\n",
    "    G: matrix representing state transitions\n",
    "       Gij is a binary value representing a transition from state i to j.\n",
    "    s: probability of following a transition. 1-s probability of teleporting\n",
    "       to another state.\n",
    "    maxerr: if the sum of pageranks between iterations is bellow this we will\n",
    "            have converged.\n",
    "    \"\"\"\n",
    "    n = G.shape[0]\n",
    "\n",
    "    # transform G into markov matrix A\n",
    "    A = csc_matrix(G,dtype=np.float)\n",
    "    rsums = np.array(A.sum(1))[:,0]\n",
    "    ri, ci = A.nonzero()\n",
    "    A.data /= rsums[ri]\n",
    "\n",
    "    # bool array of sink states\n",
    "    sink = rsums==0\n",
    "    # Compute pagerank r until we converge\n",
    "    ro, r = np.zeros(n), np.ones(n)\n",
    "    while np.sum(np.abs(r-ro)) > maxerr:\n",
    "        ro = r.copy()\n",
    "        # calculate each pagerank at a time\n",
    "        for i in range(0,n):\n",
    "            # inlinks of state i\n",
    "            Ai = np.array(A[:,i].todense())[:,0]\n",
    "            # account for sink states\n",
    "            Di = sink / float(n)\n",
    "            # account for teleportation to state i\n",
    "            Ei = np.ones(n) / float(n)\n",
    "            r[i] = ro.dot( Ai*s + Di*s + Ei*(1-s) )\n",
    "    # return normalized pagerank\n",
    "    return r/float(sum(r))"
   ]
  },
  {
   "cell_type": "markdown",
   "metadata": {},
   "source": [
    "## Main Method\n",
    "* We will implement different matrices here and check for their computation time"
   ]
  },
  {
   "cell_type": "code",
   "execution_count": 56,
   "metadata": {
    "collapsed": false
   },
   "outputs": [
    {
     "name": "stdout",
     "output_type": "stream",
     "text": [
      "Stochastic Matrix 10x10 Page Rank \n",
      " [ 0.1512237   0.04628949  0.30118057  0.04628949  0.04628949  0.11850004\n",
      "  0.22507903  0.02171606  0.02171606  0.02171606]\n",
      "\n",
      "\n",
      "Time taken to compute Stochastic Matrix 10x10 Page Rank\n",
      "--- 0.19847846031188965 seconds ---\n",
      "\n",
      "\n",
      "Irreducible and Stochastic Matrix Page Rank\n",
      " [ 0.07019468  0.09736084  0.07739285  0.31577034  0.1923962   0.2468851 ]\n",
      "\n",
      "\n",
      "Time taken to compute Irreducible and Stochastic Matrix\n",
      "--- 0.03125405311584473 seconds ---\n",
      "\n",
      "\n",
      "Stochastic Matrix only Page Rank \n",
      " [ 0.04897697  0.07003764  0.05443305  0.35363387  0.20103841  0.27188006]\n",
      "\n",
      "\n",
      "Time taken to compute stochastic matrix only\n",
      "--- 0.031253814697265625 seconds ---\n",
      "\n",
      "\n",
      "Not irreducible and not stochastic matrix Page Rank \n",
      " [ 0.04897697  0.07003764  0.05443305  0.35363387  0.20103841  0.27188006]\n",
      "\n",
      "\n",
      "Time taken to compute Not irreducible and not stochastic\n",
      "--- 0.03125405311584473 seconds ---\n"
     ]
    }
   ],
   "source": [
    "if __name__=='__main__':\n",
    "    # Example extracted from 'Introduction to Information Retrieval'\n",
    "    import time\n",
    "    \n",
    "    #Stochastic 10 x 10 matrix created\n",
    "    start_time = time.time()\n",
    "    G = np.array([[0,0,1,0,0,0,0,0,0,0],\n",
    "                  [0,0.5,0.5,0,0,0,0,0,0,0],\n",
    "                  [0.5,0,0.5,0,0,0,0,0,0,0],\n",
    "                  [0,0,0,0.5,0.5,0,0,0,0,0],\n",
    "                  [0,0,0,0,0,0,0,0,0,0],\n",
    "                  [0,0,0,0,0,0,1,0,0,0],\n",
    "                  [0,0,0,0,0,0.5,0.5,0,0,0],\n",
    "                  [0,0.25,0,0.25,0.25,0,0.25,0,0,0],\n",
    "                  [0,0,0,0,0,0,0,0,0,0],\n",
    "                  [0,0,0,0,0,0,0,0,0,0]])\n",
    "    print(\"Stochastic Matrix 10x10 Page Rank \\n\",pageRank(G,s=.86,maxerr = .0000000000000000001))\n",
    "    print('\\n')\n",
    "    print(\"Time taken to compute Stochastic Matrix 10x10 Page Rank\")\n",
    "    print(\"--- %s seconds ---\" % (time.time() - start_time))\n",
    "    print('\\n')\n",
    "    \n",
    "    start_time = time.time()\n",
    "    G = np.array([[1/60,7/15,7/15,1/60,1/60,1/60],\n",
    "                  [1/6,1/6,1/6,1/6,1/6,1/6],\n",
    "                  [19/60,19/60,1/60,1/60,19/60,1/60],\n",
    "                  [1/60,1/60,1/60,1/60,7/15,7/15],\n",
    "                  [1/60,1/60,1/60,7/15,1/60,7/15],\n",
    "                  [1/60,1/60,1/60,11/12,1/60,1/60]])\n",
    "    print(\"Irreducible and Stochastic Matrix Page Rank\\n\",pageRank(G, s = 0.86))\n",
    "    print('\\n')\n",
    "    print(\"Time taken to compute Irreducible and Stochastic Matrix\")\n",
    "    print(\"--- %s seconds ---\" % (time.time() - start_time))\n",
    "    print('\\n')\n",
    "          \n",
    "    start_time = time.time()\n",
    "    G = np.array([[0,.5,.5,0,0,0],\n",
    "                  [1/6,1/6,1/6,1/6,1/6,1/6],\n",
    "                  [1/3,1/3,0,0,1/3,0],\n",
    "                  [0,0,0,0,0.5,0.5],\n",
    "                  [0,0,0,0.5,0,0.5],\n",
    "                  [0,0,0,1,0,0]])\n",
    "    print(\"Stochastic Matrix only Page Rank \\n\",pageRank(G, s = 0.86))    \n",
    "    print('\\n')\n",
    "    print(\"Time taken to compute stochastic matrix only\")\n",
    "    print(\"--- %s seconds ---\" % (time.time() - start_time))\n",
    "    print('\\n')\n",
    "    \n",
    "    #Not irreducible and not stochastic\n",
    "    start_time = time.time()\n",
    "    G = np.array([[0,.5,.5,0,0,0],\n",
    "                  [0,0,0,0,0,0],\n",
    "                  [1/3,1/3,0,0,1/3,0],\n",
    "                  [0,0,0,0,0.5,0.5],\n",
    "                  [0,0,0,0.5,0,0.5],\n",
    "                  [0,0,0,1,0,0]])\n",
    "    print(\"Not irreducible and not stochastic matrix Page Rank \\n\",pageRank(G, s = 0.86))\n",
    "    print('\\n')\n",
    "    print(\"Time taken to compute Not irreducible and not stochastic\")\n",
    "    print(\"--- %s seconds ---\" % (time.time() - start_time))"
   ]
  },
  {
   "cell_type": "code",
   "execution_count": null,
   "metadata": {
    "collapsed": true
   },
   "outputs": [],
   "source": []
  }
 ],
 "metadata": {
  "anaconda-cloud": {},
  "kernelspec": {
   "display_name": "Python [conda root]",
   "language": "python",
   "name": "conda-root-py"
  },
  "language_info": {
   "codemirror_mode": {
    "name": "ipython",
    "version": 3
   },
   "file_extension": ".py",
   "mimetype": "text/x-python",
   "name": "python",
   "nbconvert_exporter": "python",
   "pygments_lexer": "ipython3",
   "version": "3.5.2"
  }
 },
 "nbformat": 4,
 "nbformat_minor": 1
}
